{
 "cells": [
  {
   "cell_type": "markdown",
   "id": "e9015e5e",
   "metadata": {},
   "source": [
    "# Forecasting Notebook"
   ]
  },
  {
   "cell_type": "markdown",
   "id": "9c9a9e84",
   "metadata": {},
   "source": [
    "## 1. Setup\n",
    "Importing relevant libraries"
   ]
  },
  {
   "cell_type": "code",
   "execution_count": 27,
   "id": "3e71ee51",
   "metadata": {},
   "outputs": [],
   "source": [
    "import pandas as pd\n",
    "import numpy as np\n",
    "from matplotlib import pyplot as plt\n",
    "from sklearn.svm import SVR\n",
    "from sklearn.preprocessing import StandardScaler\n",
    "from matplotlib import figure as figure\n",
    "from statsmodels.tools.eval_measures import mse, rmse, meanabs"
   ]
  },
  {
   "cell_type": "markdown",
   "id": "f7f317c4",
   "metadata": {},
   "source": [
    "Loading in data"
   ]
  },
  {
   "cell_type": "code",
   "execution_count": 4,
   "id": "003caab6",
   "metadata": {},
   "outputs": [],
   "source": [
    "file_path= \"/Users/robinvandenberg/Desktop/Thesis/Data/main.xlsx\"\n",
    "main = pd.read_excel(file_path)\n",
    "main = main.drop('Unnamed: 0', axis=1) #remove unnecessary index column"
   ]
  },
  {
   "cell_type": "markdown",
   "id": "cc19451f",
   "metadata": {},
   "source": [
    "## 2. Preparation"
   ]
  },
  {
   "cell_type": "code",
   "execution_count": 6,
   "id": "3b69277d",
   "metadata": {},
   "outputs": [
    {
     "data": {
      "text/html": [
       "<div>\n",
       "<style scoped>\n",
       "    .dataframe tbody tr th:only-of-type {\n",
       "        vertical-align: middle;\n",
       "    }\n",
       "\n",
       "    .dataframe tbody tr th {\n",
       "        vertical-align: top;\n",
       "    }\n",
       "\n",
       "    .dataframe thead th {\n",
       "        text-align: right;\n",
       "    }\n",
       "</style>\n",
       "<table border=\"1\" class=\"dataframe\">\n",
       "  <thead>\n",
       "    <tr style=\"text-align: right;\">\n",
       "      <th></th>\n",
       "      <th>time</th>\n",
       "      <th>Spot Close</th>\n",
       "      <th>Spot Volume</th>\n",
       "      <th>CQF Close</th>\n",
       "      <th>CQF Volume</th>\n",
       "      <th>Returns</th>\n",
       "      <th>LaggedReturns</th>\n",
       "      <th>returns</th>\n",
       "      <th>lag_returns</th>\n",
       "      <th>lag_cqf_vol</th>\n",
       "    </tr>\n",
       "  </thead>\n",
       "  <tbody>\n",
       "    <tr>\n",
       "      <th>2</th>\n",
       "      <td>2019-07-21 13:30:00</td>\n",
       "      <td>10568.0</td>\n",
       "      <td>0.000000e+00</td>\n",
       "      <td>10686.00</td>\n",
       "      <td>0.0000</td>\n",
       "      <td>-0.001449</td>\n",
       "      <td>0.004214</td>\n",
       "      <td>-0.001449</td>\n",
       "      <td>0.004214</td>\n",
       "      <td>0.0000</td>\n",
       "    </tr>\n",
       "    <tr>\n",
       "      <th>3</th>\n",
       "      <td>2019-07-21 13:45:00</td>\n",
       "      <td>10535.5</td>\n",
       "      <td>0.000000e+00</td>\n",
       "      <td>10648.00</td>\n",
       "      <td>0.0000</td>\n",
       "      <td>-0.003562</td>\n",
       "      <td>-0.001449</td>\n",
       "      <td>-0.003562</td>\n",
       "      <td>-0.001449</td>\n",
       "      <td>0.0000</td>\n",
       "    </tr>\n",
       "    <tr>\n",
       "      <th>4</th>\n",
       "      <td>2019-07-21 14:00:00</td>\n",
       "      <td>10531.0</td>\n",
       "      <td>0.000000e+00</td>\n",
       "      <td>10637.25</td>\n",
       "      <td>0.0000</td>\n",
       "      <td>-0.001010</td>\n",
       "      <td>-0.003562</td>\n",
       "      <td>-0.001010</td>\n",
       "      <td>-0.003562</td>\n",
       "      <td>0.0000</td>\n",
       "    </tr>\n",
       "    <tr>\n",
       "      <th>5</th>\n",
       "      <td>2019-07-21 14:15:00</td>\n",
       "      <td>10448.0</td>\n",
       "      <td>0.000000e+00</td>\n",
       "      <td>10546.75</td>\n",
       "      <td>21216.5000</td>\n",
       "      <td>-0.008544</td>\n",
       "      <td>-0.001010</td>\n",
       "      <td>-0.008544</td>\n",
       "      <td>-0.001010</td>\n",
       "      <td>0.0000</td>\n",
       "    </tr>\n",
       "    <tr>\n",
       "      <th>6</th>\n",
       "      <td>2019-07-21 14:30:00</td>\n",
       "      <td>10416.5</td>\n",
       "      <td>0.000000e+00</td>\n",
       "      <td>10513.75</td>\n",
       "      <td>0.0000</td>\n",
       "      <td>-0.003134</td>\n",
       "      <td>-0.008544</td>\n",
       "      <td>-0.003134</td>\n",
       "      <td>-0.008544</td>\n",
       "      <td>21216.5000</td>\n",
       "    </tr>\n",
       "    <tr>\n",
       "      <th>...</th>\n",
       "      <td>...</td>\n",
       "      <td>...</td>\n",
       "      <td>...</td>\n",
       "      <td>...</td>\n",
       "      <td>...</td>\n",
       "      <td>...</td>\n",
       "      <td>...</td>\n",
       "      <td>...</td>\n",
       "      <td>...</td>\n",
       "      <td>...</td>\n",
       "    </tr>\n",
       "    <tr>\n",
       "      <th>97359</th>\n",
       "      <td>2022-04-30 21:00:00</td>\n",
       "      <td>38278.0</td>\n",
       "      <td>6.148997e+06</td>\n",
       "      <td>38380.00</td>\n",
       "      <td>479102.9521</td>\n",
       "      <td>-0.001224</td>\n",
       "      <td>-0.000364</td>\n",
       "      <td>-0.001224</td>\n",
       "      <td>-0.000364</td>\n",
       "      <td>114937.9568</td>\n",
       "    </tr>\n",
       "    <tr>\n",
       "      <th>97360</th>\n",
       "      <td>2022-04-30 21:15:00</td>\n",
       "      <td>38325.0</td>\n",
       "      <td>4.012060e+06</td>\n",
       "      <td>38431.00</td>\n",
       "      <td>94022.4783</td>\n",
       "      <td>0.001328</td>\n",
       "      <td>-0.001224</td>\n",
       "      <td>0.001328</td>\n",
       "      <td>-0.001224</td>\n",
       "      <td>479102.9521</td>\n",
       "    </tr>\n",
       "    <tr>\n",
       "      <th>97361</th>\n",
       "      <td>2022-04-30 21:30:00</td>\n",
       "      <td>38355.0</td>\n",
       "      <td>3.339375e+06</td>\n",
       "      <td>38460.00</td>\n",
       "      <td>41562.1715</td>\n",
       "      <td>0.000754</td>\n",
       "      <td>0.001328</td>\n",
       "      <td>0.000754</td>\n",
       "      <td>0.001328</td>\n",
       "      <td>94022.4783</td>\n",
       "    </tr>\n",
       "    <tr>\n",
       "      <th>97362</th>\n",
       "      <td>2022-04-30 21:45:00</td>\n",
       "      <td>38304.0</td>\n",
       "      <td>1.276453e+06</td>\n",
       "      <td>38416.00</td>\n",
       "      <td>45640.5218</td>\n",
       "      <td>-0.001145</td>\n",
       "      <td>0.000754</td>\n",
       "      <td>-0.001145</td>\n",
       "      <td>0.000754</td>\n",
       "      <td>41562.1715</td>\n",
       "    </tr>\n",
       "    <tr>\n",
       "      <th>97363</th>\n",
       "      <td>2022-04-30 22:00:00</td>\n",
       "      <td>38239.0</td>\n",
       "      <td>4.431048e+06</td>\n",
       "      <td>38353.00</td>\n",
       "      <td>206411.5591</td>\n",
       "      <td>-0.001641</td>\n",
       "      <td>-0.001145</td>\n",
       "      <td>-0.001641</td>\n",
       "      <td>-0.001145</td>\n",
       "      <td>45640.5218</td>\n",
       "    </tr>\n",
       "  </tbody>\n",
       "</table>\n",
       "<p>97362 rows × 10 columns</p>\n",
       "</div>"
      ],
      "text/plain": [
       "                     time  Spot Close   Spot Volume  CQF Close   CQF Volume  \\\n",
       "2     2019-07-21 13:30:00     10568.0  0.000000e+00   10686.00       0.0000   \n",
       "3     2019-07-21 13:45:00     10535.5  0.000000e+00   10648.00       0.0000   \n",
       "4     2019-07-21 14:00:00     10531.0  0.000000e+00   10637.25       0.0000   \n",
       "5     2019-07-21 14:15:00     10448.0  0.000000e+00   10546.75   21216.5000   \n",
       "6     2019-07-21 14:30:00     10416.5  0.000000e+00   10513.75       0.0000   \n",
       "...                   ...         ...           ...        ...          ...   \n",
       "97359 2022-04-30 21:00:00     38278.0  6.148997e+06   38380.00  479102.9521   \n",
       "97360 2022-04-30 21:15:00     38325.0  4.012060e+06   38431.00   94022.4783   \n",
       "97361 2022-04-30 21:30:00     38355.0  3.339375e+06   38460.00   41562.1715   \n",
       "97362 2022-04-30 21:45:00     38304.0  1.276453e+06   38416.00   45640.5218   \n",
       "97363 2022-04-30 22:00:00     38239.0  4.431048e+06   38353.00  206411.5591   \n",
       "\n",
       "        Returns  LaggedReturns   returns  lag_returns  lag_cqf_vol  \n",
       "2     -0.001449       0.004214 -0.001449     0.004214       0.0000  \n",
       "3     -0.003562      -0.001449 -0.003562    -0.001449       0.0000  \n",
       "4     -0.001010      -0.003562 -0.001010    -0.003562       0.0000  \n",
       "5     -0.008544      -0.001010 -0.008544    -0.001010       0.0000  \n",
       "6     -0.003134      -0.008544 -0.003134    -0.008544   21216.5000  \n",
       "...         ...            ...       ...          ...          ...  \n",
       "97359 -0.001224      -0.000364 -0.001224    -0.000364  114937.9568  \n",
       "97360  0.001328      -0.001224  0.001328    -0.001224  479102.9521  \n",
       "97361  0.000754       0.001328  0.000754     0.001328   94022.4783  \n",
       "97362 -0.001145       0.000754 -0.001145     0.000754   41562.1715  \n",
       "97363 -0.001641      -0.001145 -0.001641    -0.001145   45640.5218  \n",
       "\n",
       "[97362 rows x 10 columns]"
      ]
     },
     "execution_count": 6,
     "metadata": {},
     "output_type": "execute_result"
    }
   ],
   "source": [
    "# Define the log returns for the current quarter future price\n",
    "main['returns'] = np.log(main['CQF Close']).diff()\n",
    "# Define the lagged log returns for the current quarter future price\n",
    "main['lag_returns'] = main['Returns'].shift(1)\n",
    "# Define the lagged log returns for the current quarter future price\n",
    "main['lag_cqf_vol'] = main['CQF Volume'].shift(1)\n",
    "# Drop first 2 rows as they contain NaN for the returns columns\n",
    "main = main[2:]\n",
    "main"
   ]
  },
  {
   "cell_type": "markdown",
   "id": "675f3968",
   "metadata": {},
   "source": [
    "## 3. Training"
   ]
  },
  {
   "cell_type": "code",
   "execution_count": 10,
   "id": "41d52517",
   "metadata": {},
   "outputs": [],
   "source": [
    "# create training sample data set\n",
    "train = main[:10000]\n",
    "\n",
    "# create a 2D list object with the predictors from the training data: lagged returns and lagged trading volume\n",
    "X = list()\n",
    "for lag_return, lag_cqf_vol in zip(train['lag_returns'], train['lag_cqf_vol']):\n",
    "    X.append( [ lag_return , lag_cqf_vol ] )"
   ]
  },
  {
   "cell_type": "markdown",
   "id": "e0758b53",
   "metadata": {},
   "source": [
    "To do: Grid Search to optimise parameters"
   ]
  },
  {
   "cell_type": "markdown",
   "id": "e2730aa4",
   "metadata": {},
   "source": [
    "### 3.1 Linear Kernel"
   ]
  },
  {
   "cell_type": "code",
   "execution_count": 11,
   "id": "5c4efef6",
   "metadata": {},
   "outputs": [
    {
     "data": {
      "text/plain": [
       "{'C': 1.0,\n",
       " 'cache_size': 200,\n",
       " 'coef0': 0.0,\n",
       " 'degree': 3,\n",
       " 'epsilon': 0.1,\n",
       " 'gamma': 'scale',\n",
       " 'kernel': 'linear',\n",
       " 'max_iter': -1,\n",
       " 'shrinking': True,\n",
       " 'tol': 0.001,\n",
       " 'verbose': False}"
      ]
     },
     "execution_count": 11,
     "metadata": {},
     "output_type": "execute_result"
    }
   ],
   "source": [
    "# create an SVR object with a linear kernel, fit this model to the training data, and get the paramters\n",
    "lin_svr = SVR(kernel='linear')\n",
    "lin_svr.fit(X, train['returns'])\n",
    "lin_svr.get_params()"
   ]
  },
  {
   "cell_type": "markdown",
   "id": "81ef050e",
   "metadata": {},
   "source": [
    "### 3.2 Polynomial Kernel"
   ]
  },
  {
   "cell_type": "code",
   "execution_count": 12,
   "id": "8873303f",
   "metadata": {},
   "outputs": [
    {
     "data": {
      "text/plain": [
       "{'C': 1.0,\n",
       " 'cache_size': 200,\n",
       " 'coef0': 0.0,\n",
       " 'degree': 3,\n",
       " 'epsilon': 0.1,\n",
       " 'gamma': 'scale',\n",
       " 'kernel': 'poly',\n",
       " 'max_iter': -1,\n",
       " 'shrinking': True,\n",
       " 'tol': 0.001,\n",
       " 'verbose': False}"
      ]
     },
     "execution_count": 12,
     "metadata": {},
     "output_type": "execute_result"
    }
   ],
   "source": [
    "# create an SVR object with a polynomial kernel, fit this model to the training data, and get the paramters\n",
    "pol_svr = SVR(kernel='poly')\n",
    "pol_svr.fit(X, train['returns'])\n",
    "pol_svr.get_params()"
   ]
  },
  {
   "cell_type": "markdown",
   "id": "42eace7d",
   "metadata": {},
   "source": [
    "### 3.3 Radial Basis Funcition Kernel"
   ]
  },
  {
   "cell_type": "code",
   "execution_count": 14,
   "id": "593f7db2",
   "metadata": {},
   "outputs": [
    {
     "data": {
      "text/plain": [
       "{'C': 1.0,\n",
       " 'cache_size': 200,\n",
       " 'coef0': 0.0,\n",
       " 'degree': 3,\n",
       " 'epsilon': 0.1,\n",
       " 'gamma': 'scale',\n",
       " 'kernel': 'rbf',\n",
       " 'max_iter': -1,\n",
       " 'shrinking': True,\n",
       " 'tol': 0.001,\n",
       " 'verbose': False}"
      ]
     },
     "execution_count": 14,
     "metadata": {},
     "output_type": "execute_result"
    }
   ],
   "source": [
    "# create an SVR object with an rbf kernel, fit this model to the training data, and get the paramters\n",
    "rbf_svr = SVR(kernel='rbf')\n",
    "rbf_svr.fit(X, train['returns'])\n",
    "rbf_svr.get_params()"
   ]
  },
  {
   "cell_type": "markdown",
   "id": "9bdf556d",
   "metadata": {},
   "source": [
    "## 4. Testing"
   ]
  },
  {
   "cell_type": "code",
   "execution_count": 18,
   "id": "bfbaf53d",
   "metadata": {},
   "outputs": [],
   "source": [
    "# create testing sample data set with the remaining data\n",
    "test = main[10000:]\n",
    "\n",
    "# create a 2D list object with the predictors from the testing data: lagged returns and lagged trading volume\n",
    "Xtest = list()\n",
    "for lag_returns, lag_cqf_vol in zip(test['lag_returns'], test['lag_cqf_vol']):\n",
    "    Xtest.append( [ lag_returns , lag_cqf_vol ] )"
   ]
  },
  {
   "cell_type": "code",
   "execution_count": 19,
   "id": "6c950ef1",
   "metadata": {},
   "outputs": [],
   "source": [
    "# predict the returns for the training data set using the 3 SVR models. \n",
    "lin_pred = lin_svr.predict(Xtest)\n",
    "pol_pred = pol_svr.predict(Xtest)\n",
    "rbf_pred = rbf_svr.predict(Xtest)"
   ]
  },
  {
   "cell_type": "markdown",
   "id": "f236748d",
   "metadata": {},
   "source": [
    "### 4.1 Forecast Performance"
   ]
  },
  {
   "cell_type": "code",
   "execution_count": 24,
   "id": "3a925a57",
   "metadata": {},
   "outputs": [
    {
     "name": "stdout",
     "output_type": "stream",
     "text": [
      "Linear MSE:  0.0001392491\n",
      "Poly MSE:    0.0001392491\n",
      "RBF MSE:     0.0001392491\n"
     ]
    }
   ],
   "source": [
    "# calculate the MSE for the forecasts of the 3 models\n",
    "lin_mse = round(mse(np.array(test['Returns']), lin_pred), ndigits=10)\n",
    "pol_mse = round(mse(np.array(test['Returns']), pol_pred), ndigits=10)\n",
    "rbf_mse = round(mse(np.array(test['Returns']), rbf_pred), ndigits=10)\n",
    "\n",
    "print(\"Linear MSE: \", lin_mse)\n",
    "print(\"Poly MSE:   \", pol_mse)\n",
    "print(\"RBF MSE:    \", rbf_mse)"
   ]
  },
  {
   "cell_type": "code",
   "execution_count": 25,
   "id": "5e8f7545",
   "metadata": {},
   "outputs": [
    {
     "name": "stdout",
     "output_type": "stream",
     "text": [
      "Linear RMSE:  0.0118003846\n",
      "Poly RMSE:    0.0118003846\n",
      "RBF RMSE:     0.0118003846\n"
     ]
    }
   ],
   "source": [
    "# calculate the RMSE for the forecasts of the 3 models\n",
    "lin_rmse = round(rmse(np.array(test['Returns']), lin_pred), ndigits=10)\n",
    "pol_rmse = round(rmse(np.array(test['Returns']), pol_pred), ndigits=10)\n",
    "rbf_rmse = round(rmse(np.array(test['Returns']), rbf_pred), ndigits=10)\n",
    "\n",
    "print(\"Linear RMSE: \", lin_rmse)\n",
    "print(\"Poly RMSE:   \", pol_rmse)\n",
    "print(\"RBF RMSE:    \", rbf_rmse)"
   ]
  },
  {
   "cell_type": "code",
   "execution_count": 28,
   "id": "7e85df0e",
   "metadata": {},
   "outputs": [
    {
     "name": "stdout",
     "output_type": "stream",
     "text": [
      "Linear MAE:  0.0110723684\n",
      "Poly MAE:    0.0110723684\n",
      "RBF MAE:     0.0110723684\n"
     ]
    }
   ],
   "source": [
    "# calculate the MSE for the forecasts of the 3 models\n",
    "lin_mae = round(meanabs(np.array(test['Returns']), lin_pred), ndigits=10)\n",
    "pol_mae = round(meanabs(np.array(test['Returns']), pol_pred), ndigits=10)\n",
    "rbf_mae = round(meanabs(np.array(test['Returns']), rbf_pred), ndigits=10)\n",
    "\n",
    "print(\"Linear MAE: \", lin_mae)\n",
    "print(\"Poly MAE:   \", pol_mae)\n",
    "print(\"RBF MAE:    \", rbf_mae)"
   ]
  },
  {
   "cell_type": "code",
   "execution_count": null,
   "id": "ba91ce35",
   "metadata": {},
   "outputs": [],
   "source": []
  }
 ],
 "metadata": {
  "kernelspec": {
   "display_name": "Python 3 (ipykernel)",
   "language": "python",
   "name": "python3"
  },
  "language_info": {
   "codemirror_mode": {
    "name": "ipython",
    "version": 3
   },
   "file_extension": ".py",
   "mimetype": "text/x-python",
   "name": "python",
   "nbconvert_exporter": "python",
   "pygments_lexer": "ipython3",
   "version": "3.9.12"
  }
 },
 "nbformat": 4,
 "nbformat_minor": 5
}
